{
 "cells": [
  {
   "cell_type": "code",
   "execution_count": 1,
   "metadata": {},
   "outputs": [],
   "source": [
    "import random"
   ]
  },
  {
   "cell_type": "markdown",
   "metadata": {},
   "source": [
    "list\n",
    "computer choice\n",
    "user choice\n",
    "game\n",
    "winner\n",
    "again?"
   ]
  },
  {
   "cell_type": "code",
   "execution_count": 2,
   "metadata": {},
   "outputs": [],
   "source": [
    "class RockPaperScissors:\n",
    "    def __init__(self):\n",
    "        choice_list = [\"rock\", \"paper\", \"scissors\"]\n",
    "        \n",
    "    def computer_choice(self, cchoice):\n",
    "        self.cchoice = cchoice\n",
    "        self.cchoice = random.choice(choice_list)\n",
    "        \n",
    "    def user_choice(self, uchoice):\n",
    "        self.uchoice = uchoice\n",
    "        self.uchoice = input(\"Please inter your choice from (rock, paper, scissors) : \")\n",
    "        while True:\n",
    "            for i in choice_list:\n",
    "                if i == uchoice:\n",
    "                    break\n",
    "                elif uchoice == \"q\":\n",
    "                    break\n",
    "                else:\n",
    "                    uchoice = input(\"Please inter your choice from (rock, paper, scissors) : \")\n",
    "                    continue\n",
    "            break\n",
    "               \n",
    "    def decision(self):\n",
    "        if (self.uchoice == self.cchoice) :\n",
    "            print(\"withdraw\")\n",
    "            pass\n",
    "        elif (self.uchoice == \"rock\" and self.cchoice == \"scissors\") or \\\n",
    "            (self.uchoice == \"paper\" and self.cchoice == \"rock\") or \\\n",
    "            (self.uchoice == \"scissors\" and self.cchoice == \"paper\"):\n",
    "            print(\"You won\")\n",
    "            pass\n",
    "        else :\n",
    "            print(\"You lose\")\n",
    "            pass\n",
    "        return(f\"computer choice is {self.cchoice}\")\n",
    "            \n",
    "            "
   ]
  },
  {
   "cell_type": "code",
   "execution_count": null,
   "metadata": {},
   "outputs": [],
   "source": []
  }
 ],
 "metadata": {
  "kernelspec": {
   "display_name": "yousef",
   "language": "python",
   "name": "python3"
  },
  "language_info": {
   "codemirror_mode": {
    "name": "ipython",
    "version": 3
   },
   "file_extension": ".py",
   "mimetype": "text/x-python",
   "name": "python",
   "nbconvert_exporter": "python",
   "pygments_lexer": "ipython3",
   "version": "3.13.2"
  }
 },
 "nbformat": 4,
 "nbformat_minor": 2
}
